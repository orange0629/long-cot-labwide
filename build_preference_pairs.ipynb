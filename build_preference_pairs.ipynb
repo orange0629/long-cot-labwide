{
 "cells": [
  {
   "cell_type": "code",
   "execution_count": 1,
   "id": "08f6551b",
   "metadata": {},
   "outputs": [],
   "source": [
    "import pandas as pd\n",
    "import numpy as np"
   ]
  },
  {
   "cell_type": "code",
   "execution_count": 2,
   "id": "adcd6715",
   "metadata": {},
   "outputs": [],
   "source": [
    "# read json file\n",
    "import json\n",
    "\n",
    "with open('/gpfs/accounts/wangluxy_root/wangluxy2/shared_data/xin/data/sample_train_math_Qwen2.5-32B-5samples_unfiltered.json', 'r') as f:\n",
    "    large_base_cov_data = json.load(f)\n",
    "\n",
    "with open('/gpfs/accounts/wangluxy_root/wangluxy2/shared_data/xin/data/sample_train_math_r1_qwen_1.5B_5samples_unfiltered.json', 'r') as f:\n",
    "    small_reasoning_cov_data = json.load(f)\n"
   ]
  },
  {
   "cell_type": "code",
   "execution_count": 3,
   "id": "748ff238",
   "metadata": {},
   "outputs": [],
   "source": [
    "large_base_data_dict = {}\n",
    "small_reasoning_data_dict = {}\n",
    "\n",
    "for conv_item in large_base_cov_data:\n",
    "    input_prompt = conv_item[\"messages\"][0][\"content\"]\n",
    "    if input_prompt not in large_base_data_dict:\n",
    "        large_base_data_dict[input_prompt] = [conv_item]\n",
    "    else:\n",
    "        large_base_data_dict[input_prompt].append(conv_item)\n",
    "\n",
    "for conv_item in small_reasoning_cov_data:\n",
    "    input_prompt = conv_item[\"messages\"][0][\"content\"]\n",
    "    if input_prompt not in small_reasoning_data_dict:\n",
    "        small_reasoning_data_dict[input_prompt] = [conv_item]\n",
    "    else:\n",
    "        small_reasoning_data_dict[input_prompt].append(conv_item)"
   ]
  },
  {
   "cell_type": "code",
   "execution_count": 4,
   "id": "37a54223",
   "metadata": {},
   "outputs": [],
   "source": [
    "from eval.math_equivalence import is_equiv\n",
    "df = pd.read_json(\"MATH/train.jsonl\", lines=True)\n",
    "question_mapping = {row[\"query\"]: row[\"answer\"] for _, row in df.iterrows()}\n",
    "\n",
    "def extract_boxed_answer(text):\n",
    "    start_token = r\"\\boxed{\"\n",
    "    start_idx = text.rfind(start_token)\n",
    "    if start_idx == -1:\n",
    "        return ''\n",
    "    i = start_idx + len(start_token)\n",
    "    brace_depth = 1\n",
    "    content = []\n",
    "    while i < len(text):\n",
    "        if text[i] == '{':\n",
    "            brace_depth += 1\n",
    "        elif text[i] == '}':\n",
    "            brace_depth -= 1\n",
    "            if brace_depth == 0:\n",
    "                break\n",
    "        content.append(text[i])\n",
    "        i += 1\n",
    "    return ''.join(content).strip() if brace_depth == 0 else ''"
   ]
  },
  {
   "cell_type": "markdown",
   "id": "edf77279",
   "metadata": {},
   "source": [
    "# V1"
   ]
  },
  {
   "cell_type": "code",
   "execution_count": 6,
   "id": "d7e667f1",
   "metadata": {},
   "outputs": [],
   "source": [
    "from itertools import product\n",
    "assert large_base_data_dict.keys() == small_reasoning_data_dict.keys()\n",
    "\n",
    "preference_pair_list = []\n",
    "\n",
    "for input_prompt in large_base_data_dict.keys():\n",
    "    large_base_item_list = large_base_data_dict[input_prompt]\n",
    "    small_reasoning_item_list = small_reasoning_data_dict[input_prompt]\n",
    "    \n",
    "    correct_answer = question_mapping[input_prompt.split(\"Question: \")[-1]]\n",
    "    large_base_item_list_correct = [item for item in large_base_item_list if is_equiv(extract_boxed_answer(item[\"messages\"][-1][\"content\"]), correct_answer)]\n",
    "    small_reasoning_item_list_correct = [item for item in small_reasoning_item_list if is_equiv(extract_boxed_answer(item[\"messages\"][-1][\"content\"]), correct_answer)]\n",
    "    large_base_item_list_incorrect = [item for item in large_base_item_list if not is_equiv(extract_boxed_answer(item[\"messages\"][-1][\"content\"]), correct_answer)]\n",
    "    small_reasoning_item_list_incorrect = [item for item in small_reasoning_item_list if not is_equiv(extract_boxed_answer(item[\"messages\"][-1][\"content\"]), correct_answer)]\n",
    "\n",
    "    for chosen_item, rejected_item in list(product(large_base_item_list_correct, small_reasoning_item_list_incorrect)): # enumerate all the combinations of pairs\n",
    "    # for chosen_item, rejected_item in zip(chosen_item_list, rejected_item_list):\n",
    "        preference_pair_list.append({\n",
    "            \"conversations\": [\n",
    "                {\"from\": \"user\", \"value\": input_prompt},\n",
    "            ],\n",
    "            \"chosen\": {\"from\": \"assistant\", \"value\": chosen_item[\"messages\"][-1][\"content\"]},\n",
    "            \"rejected\": {\"from\": \"assistant\", \"value\": rejected_item[\"messages\"][-1][\"content\"]}\n",
    "        })\n",
    "    \n",
    "    for chosen_item, rejected_item in list(product(small_reasoning_item_list_correct, large_base_item_list_incorrect)): # enumerate all the combinations of pairs\n",
    "    # for chosen_item, rejected_item in zip(chosen_item_list, rejected_item_list):\n",
    "        preference_pair_list.append({\n",
    "            \"conversations\": [\n",
    "                {\"from\": \"user\", \"value\": input_prompt},\n",
    "            ],\n",
    "            \"chosen\": {\"from\": \"assistant\", \"value\": chosen_item[\"messages\"][-1][\"content\"]},\n",
    "            \"rejected\": {\"from\": \"assistant\", \"value\": rejected_item[\"messages\"][-1][\"content\"]}\n",
    "        })\n",
    "\n",
    "# randomize the preference pairs with seed 42\n",
    "import random\n",
    "random.seed(42)\n",
    "random.shuffle(preference_pair_list)\n",
    "\n",
    "# save the preference pairs with indention 4\n",
    "with open('./preference_pairs_math_filtered.json', 'w') as f:\n",
    "    json.dump(preference_pair_list, f, indent=4)"
   ]
  },
  {
   "cell_type": "markdown",
   "id": "ed1e2668",
   "metadata": {},
   "source": [
    "# V2"
   ]
  },
  {
   "cell_type": "code",
   "execution_count": 8,
   "id": "0a43ece0",
   "metadata": {},
   "outputs": [
    {
     "data": {
      "text/plain": [
       "12831"
      ]
     },
     "execution_count": 8,
     "metadata": {},
     "output_type": "execute_result"
    }
   ],
   "source": [
    "from itertools import product\n",
    "assert large_base_data_dict.keys() == small_reasoning_data_dict.keys()\n",
    "\n",
    "preference_pair_list = []\n",
    "\n",
    "for input_prompt in large_base_data_dict.keys():\n",
    "    large_base_item_list = large_base_data_dict[input_prompt]\n",
    "    small_reasoning_item_list = small_reasoning_data_dict[input_prompt]\n",
    "    \n",
    "    correct_answer = question_mapping[input_prompt.split(\"Question: \")[-1]]\n",
    "    large_base_item_list_correct = [item for item in large_base_item_list if is_equiv(extract_boxed_answer(item[\"messages\"][-1][\"content\"]), correct_answer)]\n",
    "    small_reasoning_item_list_correct = [item for item in small_reasoning_item_list if is_equiv(extract_boxed_answer(item[\"messages\"][-1][\"content\"]), correct_answer)]\n",
    "    large_base_item_list_incorrect = [item for item in large_base_item_list if not is_equiv(extract_boxed_answer(item[\"messages\"][-1][\"content\"]), correct_answer)]\n",
    "    small_reasoning_item_list_incorrect = [item for item in small_reasoning_item_list if not is_equiv(extract_boxed_answer(item[\"messages\"][-1][\"content\"]), correct_answer)]\n",
    "\n",
    "    # for chosen_item, rejected_item in list(product(large_base_item_list_correct, small_reasoning_item_list_incorrect)): # enumerate all the combinations of pairs\n",
    "    for chosen_item, rejected_item in zip(large_base_item_list_correct[:min(len(large_base_item_list_correct), len(small_reasoning_item_list_incorrect))], small_reasoning_item_list_incorrect[:min(len(large_base_item_list_correct), len(small_reasoning_item_list_incorrect))]):\n",
    "        preference_pair_list.append({\n",
    "            \"conversations\": [\n",
    "                {\"from\": \"user\", \"value\": input_prompt},\n",
    "            ],\n",
    "            \"chosen\": {\"from\": \"assistant\", \"value\": chosen_item[\"messages\"][-1][\"content\"]},\n",
    "            \"rejected\": {\"from\": \"assistant\", \"value\": rejected_item[\"messages\"][-1][\"content\"]}\n",
    "        })\n",
    "    \n",
    "    # for chosen_item, rejected_item in list(product(small_reasoning_item_list_correct, large_base_item_list_incorrect)): # enumerate all the combinations of pairs\n",
    "    for chosen_item, rejected_item in zip(small_reasoning_item_list_correct[:min(len(small_reasoning_item_list_correct), len(large_base_item_list_incorrect))], large_base_item_list_incorrect[:min(len(small_reasoning_item_list_correct), len(large_base_item_list_incorrect))]):\n",
    "        preference_pair_list.append({\n",
    "            \"conversations\": [\n",
    "                {\"from\": \"user\", \"value\": input_prompt},\n",
    "            ],\n",
    "            \"chosen\": {\"from\": \"assistant\", \"value\": chosen_item[\"messages\"][-1][\"content\"]},\n",
    "            \"rejected\": {\"from\": \"assistant\", \"value\": rejected_item[\"messages\"][-1][\"content\"]}\n",
    "        })\n",
    "\n",
    "# randomize the preference pairs with seed 42\n",
    "import random\n",
    "random.seed(42)\n",
    "random.shuffle(preference_pair_list)\n",
    "\n",
    "# save the preference pairs with indention 4\n",
    "with open('./preference_pairs_math_filtered_v2.json', 'w') as f:\n",
    "    json.dump(preference_pair_list, f, indent=4)\n",
    "\n",
    "len(preference_pair_list)"
   ]
  },
  {
   "cell_type": "code",
   "execution_count": 7,
   "id": "cf21707e",
   "metadata": {},
   "outputs": [
    {
     "data": {
      "text/plain": [
       "55183"
      ]
     },
     "execution_count": 7,
     "metadata": {},
     "output_type": "execute_result"
    }
   ],
   "source": [
    "len(preference_pair_list)"
   ]
  }
 ],
 "metadata": {
  "kernelspec": {
   "display_name": "Python 3",
   "language": "python",
   "name": "python3"
  },
  "language_info": {
   "codemirror_mode": {
    "name": "ipython",
    "version": 3
   },
   "file_extension": ".py",
   "mimetype": "text/x-python",
   "name": "python",
   "nbconvert_exporter": "python",
   "pygments_lexer": "ipython3",
   "version": "3.11.11"
  }
 },
 "nbformat": 4,
 "nbformat_minor": 5
}
